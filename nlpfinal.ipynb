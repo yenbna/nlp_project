{
  "nbformat": 4,
  "nbformat_minor": 0,
  "metadata": {
    "colab": {
      "provenance": []
    },
    "kernelspec": {
      "name": "python3",
      "display_name": "Python 3"
    },
    "language_info": {
      "name": "python"
    }
  },
  "cells": [
    {
      "cell_type": "code",
      "source": [
        "import csv\n",
        "\n",
        "# Detect problematic lines in the CSV file\n",
        "def detect_problematic_lines(file_path, encoding='latin1'):\n",
        "    with open(file_path, encoding=encoding) as f:\n",
        "        reader = csv.reader(f)\n",
        "        for i, line in enumerate(reader):\n",
        "            try:\n",
        "                # Attempt to parse the line\n",
        "                pd.DataFrame([line])\n",
        "            except Exception as e:\n",
        "                print(f\"Problematic line {i}: {line}\")\n",
        "                print(e)\n",
        "\n",
        "# Check for problematic lines in each file\n",
        "print(\"Checking train_pc.csv\")\n",
        "detect_problematic_lines('train_pc.csv')\n",
        "print(\"Checking valid_pc.csv\")\n",
        "detect_problematic_lines('valid_pc.csv')\n",
        "print(\"Checking test_pc.csv\")\n",
        "detect_problematic_lines('test_pc.csv')"
      ],
      "metadata": {
        "colab": {
          "base_uri": "https://localhost:8080/"
        },
        "id": "1O7HSsYxM12A",
        "outputId": "ab91bf10-7f7f-4005-fd3e-68a22a5851e1"
      },
      "execution_count": null,
      "outputs": [
        {
          "output_type": "stream",
          "name": "stdout",
          "text": [
            "Checking train_pc.csv\n",
            "Checking valid_pc.csv\n",
            "Checking test_pc.csv\n"
          ]
        }
      ]
    },
    {
      "cell_type": "code",
      "source": [
        "import pandas as pd\n",
        "\n",
        "def clean_csv(file_path, output_path, encoding='latin1'):\n",
        "    with open(file_path, encoding=encoding) as infile, open(output_path, 'w', encoding=encoding) as outfile:\n",
        "        reader = csv.reader(infile)\n",
        "        writer = csv.writer(outfile)\n",
        "        for line in reader:\n",
        "            try:\n",
        "                # Try to parse line and write to output if successful\n",
        "                pd.DataFrame([line])\n",
        "                writer.writerow(line)\n",
        "            except Exception as e:\n",
        "                # Skip problematic line\n",
        "                print(f\"Skipping problematic line: {line}\")\n",
        "\n",
        "# Clean each file and write to new cleaned files\n",
        "clean_csv('train_pc.csv', 'cleaned_train_pc.csv')\n",
        "clean_csv('valid_pc.csv', 'cleaned_valid_pc.csv')\n",
        "clean_csv('test_pc.csv', 'cleaned_test_pc.csv')"
      ],
      "metadata": {
        "id": "3G9-lef0WYDW"
      },
      "execution_count": null,
      "outputs": []
    },
    {
      "cell_type": "code",
      "source": [
        "# Load cleaned data with specified encoding\n",
        "train_df = pd.read_csv('cleaned_train_pc.csv', encoding='latin1')\n",
        "valid_df = pd.read_csv('cleaned_valid_pc.csv', encoding='latin1')\n",
        "test_df = pd.read_csv('cleaned_test_pc.csv', encoding='latin1')\n",
        "\n",
        "# Preview the data\n",
        "print(train_df.head())"
      ],
      "metadata": {
        "colab": {
          "base_uri": "https://localhost:8080/"
        },
        "id": "Aco9CkqQWdaN",
        "outputId": "580dc897-db97-425d-e250-fc9d6aefd6dc"
      },
      "execution_count": null,
      "outputs": [
        {
          "output_type": "stream",
          "name": "stdout",
          "text": [
            "      custom_id                                               text  \\\n",
            "0  pla015439pla                                Ó¨ÑÑÐµ ÐºÒ¯ÑÑÑ   \n",
            "1  pla083193pla  ÐÓÐ±Ð°Ð·Ð°Ñ Ð¶Ð¾Ðº .ÐÑÐµ ÐºÐµÑÐµÐ¼ÐµÑ Ñ...   \n",
            "2  pla113624pla  ÐÑÑÑÐ¸ , Ð´Ð°Ð» ÑÑÑÐ° Ð°Ð¹ÑÐ°Ð´Ñ ð...   \n",
            "3  pla029825pla                              Ð ÐµÐºÐ»Ð°Ð¼Ð° ÐºÐ¾Ð¿   \n",
            "4  pla002604pla                          5-Ð±Ð°ÒÐ° Ð±ÐµÑÐµÐ¼ÑÐ½   \n",
            "\n",
            "                                        text_cleaned  label    domain  \n",
            "0                                Ó©ÑÑÐµ ÐºÒ¯ÑÑÑ      1  appstore  \n",
            "1  Ð¼ÓÐ±Ð°Ð·Ð°Ñ Ð¶Ð¾Ðº Ð¾ÑÐµ ÐºÐµÑÐµÐ¼ÐµÑ Ñ...      1  appstore  \n",
            "2            ÐºÑÑÑÐ¸ Ð´Ð°Ð» ÑÑÑÐ° Ð°Ð¹ÑÐ°Ð´Ñ      1  appstore  \n",
            "3                              ÑÐµÐºÐ»Ð°Ð¼Ð° ÐºÐ¾Ð¿      0  appstore  \n",
            "4                          5 Ð±Ð°ÒÐ° Ð±ÐµÑÐµÐ¼ÑÐ½      1  appstore  \n"
          ]
        }
      ]
    },
    {
      "cell_type": "code",
      "source": [
        "import pandas as pd\n",
        "import re\n",
        "import chardet\n",
        "\n",
        "# Function to detect and decode text\n",
        "def decode_text(text):\n",
        "    try:\n",
        "        detected = chardet.detect(text.encode())\n",
        "        encoding = detected['encoding'] if detected['encoding'] is not None else 'utf-8'\n",
        "        return text.encode(encoding, errors='ignore').decode('utf-8', errors='ignore')\n",
        "    except Exception as e:\n",
        "        print(f\"Error decoding text: {e}\")\n",
        "        return text\n",
        "\n",
        "# Example text cleaning function\n",
        "def clean_text(text):\n",
        "    text = decode_text(text)  # Decode text\n",
        "    text = text.lower()  # Convert to lowercase\n",
        "    text = re.sub(r'\\b\\d+\\b', ' ', text)  # Remove numbers\n",
        "    text = re.sub(r'[^\\w\\s]', ' ', text)  # Remove punctuation\n",
        "    text = re.sub(r'\\s+', ' ', text)  # Remove extra spaces\n",
        "    return text.strip()\n",
        "\n",
        "# Load your data\n",
        "train_df = pd.read_csv('cleaned_train_pc.csv', encoding='utf-8')\n",
        "valid_df = pd.read_csv('cleaned_valid_pc.csv', encoding='utf-8')\n",
        "test_df = pd.read_csv('cleaned_test_pc.csv', encoding='utf-8')\n",
        "\n",
        "# Apply cleaning function to the data\n",
        "train_df['text_cleaned'] = train_df['text'].apply(clean_text)\n",
        "valid_df['text_cleaned'] = valid_df['text'].apply(clean_text)\n",
        "test_df['text_cleaned'] = test_df['text'].apply(clean_text)\n",
        "\n",
        "# Preview cleaned text\n",
        "print(train_df['text_cleaned'].head())\n",
        "print(valid_df['text_cleaned'].head())\n",
        "print(test_df['text_cleaned'].head())"
      ],
      "metadata": {
        "colab": {
          "base_uri": "https://localhost:8080/"
        },
        "id": "SRlTrDtTVZ6O",
        "outputId": "2f1150ba-b84e-462f-8ce4-765351a62a5f"
      },
      "execution_count": null,
      "outputs": [
        {
          "output_type": "stream",
          "name": "stdout",
          "text": [
            "0                                өтте күшті\n",
            "1    мәбазар жок оте керемет тамаша керемет\n",
            "2                     кушти дал тура айтады\n",
            "3                               реклама коп\n",
            "4                              баға беремін\n",
            "Name: text_cleaned, dtype: object\n",
            "0    бәрі жақсы дәрісі күшті көмектесті каспиге көп...\n",
            "1                         жаксы нарсе екен маган унады\n",
            "2    олллшшшшлотльб мен су мен оны шығып үй цггшшгг...\n",
            "3    жаман приложение кунде обнови деп тура беред ө...\n",
            "4                                         әдемі рахмет\n",
            "Name: text_cleaned, dtype: object\n",
            "0            тез тарту керек минутта тартылатын болсын\n",
            "1    каспи рахмет сендерге куптен куттим кашан прил...\n",
            "2    маған ұнады өте керемет телефоным как будто ай...\n",
            "3                              өте іңғайлы үнады маған\n",
            "4    ассалаумағалейкум оқып жауабын берсеңіздер еке...\n",
            "Name: text_cleaned, dtype: object\n"
          ]
        }
      ]
    },
    {
      "cell_type": "code",
      "source": [
        "from sklearn.feature_extraction.text import TfidfVectorizer\n",
        "\n",
        "# Initialize TfidfVectorizer\n",
        "vectorizer = TfidfVectorizer(max_features=5000)\n",
        "\n",
        "# Transform text to numeric format\n",
        "X_train_tfidf = vectorizer.fit_transform(train_df['text_cleaned'])\n",
        "X_valid_tfidf = vectorizer.transform(valid_df['text_cleaned'])\n",
        "X_test_tfidf = vectorizer.transform(test_df['text_cleaned'])\n",
        "\n",
        "# Check the shape of the transformed data\n",
        "print(X_train_tfidf.shape)\n",
        "print(X_valid_tfidf.shape)\n",
        "print(X_test_tfidf.shape)"
      ],
      "metadata": {
        "colab": {
          "base_uri": "https://localhost:8080/"
        },
        "id": "nQmYEL1iWs1b",
        "outputId": "75ec0c6f-4684-41e8-ef44-e4d1601eba06"
      },
      "execution_count": null,
      "outputs": [
        {
          "output_type": "stream",
          "name": "stdout",
          "text": [
            "(134368, 5000)\n",
            "(16796, 5000)\n",
            "(16797, 5000)\n"
          ]
        }
      ]
    },
    {
      "cell_type": "code",
      "source": [
        "from sklearn.linear_model import LogisticRegression\n",
        "\n",
        "# Split data into features and labels\n",
        "y_train = train_df['label']\n",
        "y_valid = valid_df['label']\n",
        "y_test = test_df['label']\n",
        "\n",
        "# Initialize and train the model\n",
        "model = LogisticRegression(max_iter=1000)\n",
        "model.fit(X_train_tfidf, y_train)\n",
        "\n",
        "# Predict on the validation set\n",
        "y_valid_pred = model.predict(X_valid_tfidf)"
      ],
      "metadata": {
        "id": "IVlEJmm3WwCo"
      },
      "execution_count": null,
      "outputs": []
    },
    {
      "cell_type": "code",
      "source": [
        "from sklearn.metrics import classification_report, accuracy_score\n",
        "\n",
        "# Evaluate the model\n",
        "print(\"Validation Accuracy: \", accuracy_score(y_valid, y_valid_pred))\n",
        "print(classification_report(y_valid, y_valid_pred))"
      ],
      "metadata": {
        "colab": {
          "base_uri": "https://localhost:8080/"
        },
        "id": "HiRRR2IxWzVz",
        "outputId": "08b1671e-1498-4170-c293-4df033ffbda6"
      },
      "execution_count": null,
      "outputs": [
        {
          "output_type": "stream",
          "name": "stdout",
          "text": [
            "Validation Accuracy:  0.8322219576089546\n",
            "              precision    recall  f1-score   support\n",
            "\n",
            "           0       0.64      0.14      0.22      2995\n",
            "           1       0.84      0.98      0.91     13801\n",
            "\n",
            "    accuracy                           0.83     16796\n",
            "   macro avg       0.74      0.56      0.57     16796\n",
            "weighted avg       0.80      0.83      0.78     16796\n",
            "\n"
          ]
        }
      ]
    },
    {
      "cell_type": "code",
      "source": [
        "# Predict on the test set\n",
        "y_test_pred = model.predict(X_test_tfidf)\n",
        "\n",
        "# Evaluate the model\n",
        "print(\"Test Accuracy: \", accuracy_score(y_test, y_test_pred))\n",
        "print(classification_report(y_test, y_test_pred))"
      ],
      "metadata": {
        "colab": {
          "base_uri": "https://localhost:8080/"
        },
        "id": "cg9JRXkDW2KP",
        "outputId": "143bc3fb-6ec9-4f09-ca1d-2f28c993ab0f"
      },
      "execution_count": null,
      "outputs": [
        {
          "output_type": "stream",
          "name": "stdout",
          "text": [
            "Test Accuracy:  0.8316961362148002\n",
            "              precision    recall  f1-score   support\n",
            "\n",
            "           0       0.64      0.13      0.21      2993\n",
            "           1       0.84      0.98      0.91     13804\n",
            "\n",
            "    accuracy                           0.83     16797\n",
            "   macro avg       0.74      0.56      0.56     16797\n",
            "weighted avg       0.80      0.83      0.78     16797\n",
            "\n"
          ]
        }
      ]
    },
    {
      "cell_type": "code",
      "source": [
        "from sklearn.model_selection import GridSearchCV\n",
        "\n",
        "# Define the parameter grid\n",
        "param_grid = {\n",
        "    'C': [0.1, 1, 10, 100],\n",
        "    'penalty': ['l1', 'l2'],\n",
        "    'solver': ['liblinear']\n",
        "}\n",
        "\n",
        "# Initialize the grid search\n",
        "grid_search = GridSearchCV(LogisticRegression(max_iter=1000), param_grid, cv=5)\n",
        "\n",
        "# Fit the grid search to the data\n",
        "grid_search.fit(X_train_tfidf, y_train)\n",
        "\n",
        "# Print the best parameters and score\n",
        "print(\"Best parameters found: \", grid_search.best_params_)\n",
        "print(\"Best cross-validation score: \", grid_search.best_score_)\n",
        "\n",
        "# Use the best estimator to predict on the validation and test sets\n",
        "best_model = grid_search.best_estimator_\n",
        "y_valid_pred = best_model.predict(X_valid_tfidf)\n",
        "y_test_pred = best_model.predict(X_test_tfidf)\n",
        "\n",
        "# Evaluate the best model\n",
        "print(\"Validation Accuracy: \", accuracy_score(y_valid, y_valid_pred))\n",
        "print(classification_report(y_valid, y_valid_pred))\n",
        "print(\"Test Accuracy: \", accuracy_score(y_test, y_test_pred))\n",
        "print(classification_report(y_test, y_test_pred))"
      ],
      "metadata": {
        "colab": {
          "base_uri": "https://localhost:8080/"
        },
        "id": "8yezm0k2W5on",
        "outputId": "fa9bac6a-a490-473c-b9f8-ae6640a26633"
      },
      "execution_count": null,
      "outputs": [
        {
          "output_type": "stream",
          "name": "stdout",
          "text": [
            "Best parameters found:  {'C': 1, 'penalty': 'l2', 'solver': 'liblinear'}\n",
            "Best cross-validation score:  0.8317084375008941\n",
            "Validation Accuracy:  0.8321028816384853\n",
            "              precision    recall  f1-score   support\n",
            "\n",
            "           0       0.64      0.14      0.22      2995\n",
            "           1       0.84      0.98      0.91     13801\n",
            "\n",
            "    accuracy                           0.83     16796\n",
            "   macro avg       0.74      0.56      0.56     16796\n",
            "weighted avg       0.80      0.83      0.78     16796\n",
            "\n",
            "Test Accuracy:  0.8316366017741263\n",
            "              precision    recall  f1-score   support\n",
            "\n",
            "           0       0.64      0.13      0.21      2993\n",
            "           1       0.84      0.98      0.91     13804\n",
            "\n",
            "    accuracy                           0.83     16797\n",
            "   macro avg       0.74      0.56      0.56     16797\n",
            "weighted avg       0.80      0.83      0.78     16797\n",
            "\n"
          ]
        }
      ]
    },
    {
      "cell_type": "code",
      "source": [
        "from sklearn.ensemble import RandomForestClassifier\n",
        "\n",
        "# Initialize and train the Random Forest model\n",
        "rf_model = RandomForestClassifier(n_estimators=100, random_state=42)\n",
        "rf_model.fit(X_train_tfidf, y_train)\n",
        "\n",
        "# Predict on the validation and test sets\n",
        "y_valid_pred_rf = rf_model.predict(X_valid_tfidf)\n",
        "y_test_pred_rf = rf_model.predict(X_test_tfidf)\n",
        "\n",
        "# Evaluate the Random Forest model\n",
        "print(\"Validation Accuracy (RF): \", accuracy_score(y_valid, y_valid_pred_rf))\n",
        "print(classification_report(y_valid, y_valid_pred_rf))\n",
        "print(\"Test Accuracy (RF): \", accuracy_score(y_test, y_test_pred_rf))\n",
        "print(classification_report(y_test, y_test_pred_rf))"
      ],
      "metadata": {
        "colab": {
          "base_uri": "https://localhost:8080/"
        },
        "id": "CuIDi5jZX-0E",
        "outputId": "cc3ea070-f02f-48d9-f1b0-571f672b9bb5"
      },
      "execution_count": null,
      "outputs": [
        {
          "output_type": "stream",
          "name": "stdout",
          "text": [
            "Validation Accuracy (RF):  0.8263872350559657\n",
            "              precision    recall  f1-score   support\n",
            "\n",
            "           0       0.56      0.13      0.21      2995\n",
            "           1       0.84      0.98      0.90     13801\n",
            "\n",
            "    accuracy                           0.83     16796\n",
            "   macro avg       0.70      0.55      0.56     16796\n",
            "weighted avg       0.79      0.83      0.78     16796\n",
            "\n",
            "Test Accuracy (RF):  0.8269333809608859\n",
            "              precision    recall  f1-score   support\n",
            "\n",
            "           0       0.56      0.13      0.21      2993\n",
            "           1       0.84      0.98      0.90     13804\n",
            "\n",
            "    accuracy                           0.83     16797\n",
            "   macro avg       0.70      0.55      0.56     16797\n",
            "weighted avg       0.79      0.83      0.78     16797\n",
            "\n"
          ]
        }
      ]
    },
    {
      "cell_type": "code",
      "source": [
        "!pip install joblib"
      ],
      "metadata": {
        "colab": {
          "base_uri": "https://localhost:8080/"
        },
        "id": "wuZhztoSYbIh",
        "outputId": "4afb02c3-cc9c-4a10-d423-170a424fe128"
      },
      "execution_count": null,
      "outputs": [
        {
          "output_type": "stream",
          "name": "stdout",
          "text": [
            "Requirement already satisfied: joblib in /usr/local/lib/python3.10/dist-packages (1.4.2)\n"
          ]
        }
      ]
    },
    {
      "cell_type": "code",
      "source": [
        "import joblib\n",
        "\n",
        "# Save the model\n",
        "joblib.dump(model, 'logistic_regression_model.pkl')\n",
        "\n",
        "# To load the model later\n",
        "# model = joblib.load('logistic_regression_model.pkl')"
      ],
      "metadata": {
        "colab": {
          "base_uri": "https://localhost:8080/"
        },
        "id": "vEu7rARlYSRU",
        "outputId": "fb82d634-22c4-48e8-bc1a-7a75c74dc44b"
      },
      "execution_count": null,
      "outputs": [
        {
          "output_type": "execute_result",
          "data": {
            "text/plain": [
              "['logistic_regression_model.pkl']"
            ]
          },
          "metadata": {},
          "execution_count": 15
        }
      ]
    },
    {
      "cell_type": "code",
      "source": [
        "print(\"Final Model Performance:\")\n",
        "\n",
        "print(\"Validation Accuracy: \", accuracy_score(y_valid, y_valid_pred))\n",
        "print(\"Validation Report: \\n\", classification_report(y_valid, y_valid_pred))\n",
        "\n",
        "print(\"Test Accuracy: \", accuracy_score(y_test, y_test_pred))\n",
        "print(\"Test Report: \\n\", classification_report(y_test, y_test_pred))\n"
      ],
      "metadata": {
        "colab": {
          "base_uri": "https://localhost:8080/"
        },
        "id": "nDMPiKfJYaTf",
        "outputId": "657d86f7-62ef-43a0-8875-220f0bd9c617"
      },
      "execution_count": null,
      "outputs": [
        {
          "output_type": "stream",
          "name": "stdout",
          "text": [
            "Final Model Performance:\n",
            "Validation Accuracy:  0.8321028816384853\n",
            "Validation Report: \n",
            "               precision    recall  f1-score   support\n",
            "\n",
            "           0       0.64      0.14      0.22      2995\n",
            "           1       0.84      0.98      0.91     13801\n",
            "\n",
            "    accuracy                           0.83     16796\n",
            "   macro avg       0.74      0.56      0.56     16796\n",
            "weighted avg       0.80      0.83      0.78     16796\n",
            "\n",
            "Test Accuracy:  0.8316366017741263\n",
            "Test Report: \n",
            "               precision    recall  f1-score   support\n",
            "\n",
            "           0       0.64      0.13      0.21      2993\n",
            "           1       0.84      0.98      0.91     13804\n",
            "\n",
            "    accuracy                           0.83     16797\n",
            "   macro avg       0.74      0.56      0.56     16797\n",
            "weighted avg       0.80      0.83      0.78     16797\n",
            "\n"
          ]
        }
      ]
    },
    {
      "cell_type": "code",
      "source": [
        "#score\n",
        "!pip install tqdm"
      ],
      "metadata": {
        "id": "6Yobh25_Z8DG",
        "colab": {
          "base_uri": "https://localhost:8080/"
        },
        "outputId": "6af39af0-02cf-40f1-ca69-67aa65bc2969"
      },
      "execution_count": null,
      "outputs": [
        {
          "output_type": "stream",
          "name": "stdout",
          "text": [
            "Requirement already satisfied: tqdm in /usr/local/lib/python3.10/dist-packages (4.66.4)\n"
          ]
        }
      ]
    },
    {
      "cell_type": "code",
      "source": [
        "import csv\n",
        "import pandas as pd\n",
        "\n",
        "# Function to detect problematic lines in the CSV file\n",
        "def detect_problematic_lines(file_path, encoding='latin1'):\n",
        "    with open(file_path, encoding=encoding) as f:\n",
        "        reader = csv.reader(f)\n",
        "        for i, line in enumerate(reader):\n",
        "            try:\n",
        "                # Attempt to parse the line\n",
        "                pd.DataFrame([line])\n",
        "            except Exception as e:\n",
        "                print(f\"Problematic line {i}: {line}\")\n",
        "                print(e)\n",
        "\n",
        "# Check for problematic lines in each file\n",
        "print(\"Checking train_sc.csv\")\n",
        "detect_problematic_lines('train_sc.csv')\n",
        "print(\"Checking valid_sc.csv\")\n",
        "detect_problematic_lines('valid_sc.csv')\n",
        "print(\"Checking test_sc.csv\")\n",
        "detect_problematic_lines('test_sc.csv')"
      ],
      "metadata": {
        "colab": {
          "base_uri": "https://localhost:8080/"
        },
        "id": "HLkRA_bFaLx7",
        "outputId": "0b2a4420-10b8-4e67-d93e-3970272794d5"
      },
      "execution_count": null,
      "outputs": [
        {
          "output_type": "stream",
          "name": "stdout",
          "text": [
            "Checking train_sc.csv\n",
            "Checking valid_sc.csv\n",
            "Checking test_sc.csv\n"
          ]
        }
      ]
    },
    {
      "cell_type": "code",
      "source": [
        "import csv\n",
        "import pandas as pd\n",
        "\n",
        "# Function to clean CSV files by removing problematic lines\n",
        "def clean_csv(file_path, output_path, encoding='latin1'):\n",
        "    with open(file_path, encoding=encoding) as infile, open(output_path, 'w', encoding=encoding) as outfile:\n",
        "        reader = csv.reader(infile)\n",
        "        writer = csv.writer(outfile)\n",
        "        for line in reader:\n",
        "            try:\n",
        "                # Try to parse the line and write to output if successful\n",
        "                pd.DataFrame([line])\n",
        "                writer.writerow(line)\n",
        "            except Exception as e:\n",
        "                # Skip problematic line\n",
        "                print(f\"Skipping problematic line: {line}\")\n",
        "\n",
        "# Clean each file and write to new cleaned files\n",
        "clean_csv('train_sc.csv', 'cleaned_train_sc.csv')\n",
        "clean_csv('valid_sc.csv', 'cleaned_valid_sc.csv')\n",
        "clean_csv('test_sc.csv', 'cleaned_test_sc.csv')"
      ],
      "metadata": {
        "id": "X9UQok4Aanta"
      },
      "execution_count": null,
      "outputs": []
    },
    {
      "cell_type": "code",
      "source": [
        "# Load cleaned data with specified encoding\n",
        "train_sc_df = pd.read_csv('cleaned_train_sc.csv', encoding='latin1')\n",
        "valid_sc_df = pd.read_csv('cleaned_valid_sc.csv', encoding='latin1')\n",
        "test_sc_df = pd.read_csv('cleaned_test_sc.csv', encoding='latin1')\n",
        "\n",
        "# Preview the data\n",
        "print(train_sc_df.head())\n",
        "print(valid_sc_df.head())\n",
        "print(test_sc_df.head())"
      ],
      "metadata": {
        "colab": {
          "base_uri": "https://localhost:8080/"
        },
        "id": "NyyLNm0ian2-",
        "outputId": "069a7b97-7895-4f7f-8dd2-30af3aa255e4"
      },
      "execution_count": null,
      "outputs": [
        {
          "output_type": "stream",
          "name": "stdout",
          "text": [
            "      custom_id                                               text  \\\n",
            "0  pla063804pla  ÐºÐ°ÑÑÐ° Ð°ÑÑÐ»Ð¼Ð°Ð¹Ð´Ñ! ÑÐ¾Ð½Ð´ÑÒÑÐ...   \n",
            "1  kit003073kit  ÐÐµÑÐµÐ¼ÐµÑ Ð¼Ð¾ÑÐ¸Ð²Ð°ÑÐ¸Ñ Ð¼ÐµÐ½ Ð¶Ð°Ò...   \n",
            "2  pla040287pla  ÐÒ±ÑÑÑ Ð¶Ò±Ð¼ÑÑ Ð¶Ð°ÑÐ°Ð¼Ð°Ð¹Ð´Ñ. ÐÐ¹...   \n",
            "3  kit005410kit  Ð¡Ð¾ÒÑÑ ÐºÐµÐ·ÑÐ½Ð´ÐµÐ³Ñ ÑÐ°Ð»ÑÒ ÐºÓ©Ñ...   \n",
            "4  map001672map  ÐÐµÑÑÑÑ ÑÐ°ÑÐ±Ð°ÒÑ Ó©ÑÐµ ÐºÐµÑÐµÐ¼Ð...   \n",
            "\n",
            "                                        text_cleaned  label     domain  \n",
            "0  ÐºÐ°ÑÑÐ° Ð°ÑÑÐ»Ð¼Ð°Ð¹Ð´Ñ ÑÐ¾Ð½Ð´ÑÒÑÐ°...      1   appstore  \n",
            "1  ÐºÐµÑÐµÐ¼ÐµÑ Ð¼Ð¾ÑÐ¸Ð²Ð°ÑÐ¸Ñ Ð¼ÐµÐ½ Ð¶Ð°Ò...      4  bookstore  \n",
            "2  Ð´Ò±ÑÑÑ Ð¶Ò±Ð¼ÑÑ Ð¶Ð°ÑÐ°Ð¼Ð°Ð¹Ð´Ñ Ð°Ð¹Ð...      0   appstore  \n",
            "3  ÑÐ¾ÒÑÑ ÐºÐµÐ·ÑÐ½Ð´ÐµÐ³Ñ ÑÐ°Ð»ÑÒ ÐºÓ©Ñ...      4  bookstore  \n",
            "4  Ð¶ÐµÑÑÑÑ ÑÐ°ÑÐ±Ð°ÒÑ Ó©ÑÐµ ÐºÐµÑÐµÐ¼Ð...      4    mapping  \n",
            "      custom_id                                               text  \\\n",
            "0  pla030763pla  Ó¨ÑÐµ ÐºÐµÑÐµÐ¼ÐµÑ ÒÐ¾ÑÑÐ¼ÑÐ° ÐºÓ©Ð¼ÐµÐ...   \n",
            "1  pla074331pla  ÐÑÐ¼ Ð¾ÑÑÐ½Ð´Ð°Ð¹ Ð±Ð¾Ð»Ð´Ñ???500 Ð³ÑÐ±Ð...   \n",
            "2  kit003992kit  ÐÐ°ÒÐ°Ð½ Ð¿Ð¾ÑÐ¼Ð° Ò±Ð½Ð°Ð´Ñ, Ó©Ð¼ÑÑÑÐµ...   \n",
            "3  pla022230pla      ÐÐ°ÒÑÑ Ð°Ð´Ð°Ð¼Ð´Ð°ÑÒÐ° ÑÒ£ÒÐ°Ð¹Ð»Ñ.   \n",
            "4  pla129703pla  ÒÐÐÐÒ Ð¢ÐÐÐÐ ÒÒ°Ð ÐÐÐ¢Ð¢ÐÒ¢ÐÐÐ...   \n",
            "\n",
            "                                        text_cleaned  label     domain  \n",
            "0  Ó©ÑÐµ ÐºÐµÑÐµÐ¼ÐµÑ ÒÐ¾ÑÑÐ¼ÑÐ° ÐºÓ©Ð¼ÐµÐ...      4   appstore  \n",
            "1  ÐºÑÐ¼ Ð¾ÑÑÐ½Ð´Ð°Ð¹ Ð±Ð¾Ð»Ð´Ñ 500 Ð³ÑÐ±ÐºÑ...      4   appstore  \n",
            "2  Ð¼Ð°ÒÐ°Ð½ Ð¿Ð¾ÑÐ¼Ð° Ò±Ð½Ð°Ð´Ñ Ó©Ð¼ÑÑÑÐµÒ...      4  bookstore  \n",
            "3       Ð¶Ð°ÒÑÑ Ð°Ð´Ð°Ð¼Ð´Ð°ÑÒÐ° ÑÒ£ÒÐ°Ð¹Ð»Ñ      4   appstore  \n",
            "4  ÒÐ°Ð·Ð°Ò ÑÑÐ»ÑÐ½ ÒÒ±ÑÐ¼ÐµÑÑÐµÒ£ÑÐ·Ð´...      0   appstore  \n",
            "      custom_id                                               text  \\\n",
            "0  kas027062kas  ÐÐ°Ð»Ð°ÒÐ° Ó©ÑÐµ ÑÒ£ÒÐ°Ð¹Ð»Ñ.\\nÓ¨ÑÐµ Ò...   \n",
            "1  pla075394pla  ÐÐ°Ð±Ðº ÒÐ° ÒÐ°ÑÐ°ÒÐ°Ð½Ð´Ð° Ð³ÑÐ°ÑÐ¸ÐºÐ...   \n",
            "2  pla123839pla  Ó¨ÑÐµ ÐºÐµÑÐµÐ¼ÐµÑ!!!! ÐÐ°ÒÐ°Ð½ Ó©ÑÐµ Ò±...   \n",
            "3  pla130354pla  ÒÐ°Ð¹ÑÑÐ»Ñ ÐºÒ¯Ð½! ÐÐµÐ½ Ð±Ð¸Ð»ÐµÑÑÑ Ò...   \n",
            "4  pla122484pla               Qazaq keybaert Ð¼Ð°ÒÐ°Ð½ Ò±Ð½Ð°Ð´Ñ   \n",
            "\n",
            "                                        text_cleaned  label    domain  \n",
            "0  Ð±Ð°Ð»Ð°ÒÐ° Ó©ÑÐµ ÑÒ£ÒÐ°Ð¹Ð»Ñ Ó©ÑÐµ ÒÐ°...      4    market  \n",
            "1  Ð¿Ð°Ð±Ðº ÒÐ° ÒÐ°ÑÐ°ÒÐ°Ð½Ð´Ð° Ð³ÑÐ°ÑÐ¸ÐºÐ...      4  appstore  \n",
            "2  Ó©ÑÐµ ÐºÐµÑÐµÐ¼ÐµÑ Ð¼Ð°ÒÐ°Ð½ Ó©ÑÐµ Ò±Ð½Ð°...      4  appstore  \n",
            "3  ÒÐ°Ð¹ÑÑÐ»Ñ ÐºÒ¯Ð½ Ð¼ÐµÐ½ Ð±Ð¸Ð»ÐµÑÑÑ Ò...      0  appstore  \n",
            "4               qazaq keybaert Ð¼Ð°ÒÐ°Ð½ Ò±Ð½Ð°Ð´Ñ      4  appstore  \n"
          ]
        }
      ]
    },
    {
      "cell_type": "code",
      "source": [
        "import pandas as pd\n",
        "import re\n",
        "from sklearn.feature_extraction.text import TfidfVectorizer\n",
        "from sklearn.ensemble import RandomForestRegressor\n",
        "from sklearn.metrics import mean_squared_error, mean_absolute_error, r2_score\n",
        "from sklearn.model_selection import RandomizedSearchCV\n",
        "import joblib"
      ],
      "metadata": {
        "id": "93WBzSdgZ--M"
      },
      "execution_count": null,
      "outputs": []
    },
    {
      "cell_type": "code",
      "source": [
        "def clean_text(text):\n",
        "    text = text.lower()  # Convert to lowercase\n",
        "    text = re.sub(r'\\b\\d+\\b', ' ', text)  # Remove numbers\n",
        "    text = re.sub(r'[^\\w\\s]', ' ', text)  # Remove punctuation\n",
        "    text = re.sub(r'\\s+', ' ', text)  # Remove extra spaces\n",
        "    return text.strip()"
      ],
      "metadata": {
        "id": "AfVj1sr8eAhr"
      },
      "execution_count": null,
      "outputs": []
    },
    {
      "cell_type": "code",
      "source": [
        "# Load the data\n",
        "train_sc_df = pd.read_csv('cleaned_train_sc.csv', encoding='utf-8')\n",
        "valid_sc_df = pd.read_csv('cleaned_valid_sc.csv', encoding='utf-8')\n",
        "test_sc_df = pd.read_csv('cleaned_test_sc.csv', encoding='utf-8')\n",
        "\n",
        "# Apply the cleaning function to the data\n",
        "train_sc_df['text_cleaned'] = train_sc_df['text'].apply(clean_text)\n",
        "valid_sc_df['text_cleaned'] = valid_sc_df['text'].apply(clean_text)\n",
        "test_sc_df['text_cleaned'] = test_sc_df['text'].apply(clean_text)\n",
        "\n",
        "# View the first rows of cleaned text\n",
        "print(train_sc_df['text_cleaned'].head())\n",
        "print(valid_sc_df['text_cleaned'].head())\n",
        "print(test_sc_df['text_cleaned'].head())"
      ],
      "metadata": {
        "colab": {
          "base_uri": "https://localhost:8080/"
        },
        "id": "1fkZigVQaLFt",
        "outputId": "b119ecff-e620-4d6b-dc99-80d840308da0"
      },
      "execution_count": null,
      "outputs": [
        {
          "output_type": "stream",
          "name": "stdout",
          "text": [
            "0    карта ашылмайды сондықтан әзірге жұлдыз кейін ...\n",
            "1    керемет мотивация мен жаңа көзқарас қалыптасты...\n",
            "2    дұрыс жұмыс жасамайды аймақты басасың басқа жа...\n",
            "3    соғыс кезіндегі халық көрген тауқыметті өз көз...\n",
            "4    жетысу саябағы өте керемет екен ұнағаны шағын ...\n",
            "Name: text_cleaned, dtype: object\n",
            "0                   өте керемет қосымша көмекші\n",
            "1           кім осындай болды губкта нани түсті\n",
            "2    маған поэма ұнады өміршең шығарма дер едім\n",
            "3                       жақсы адамдарға ыңғайлы\n",
            "4                    қазақ тілін құрметтеңіздер\n",
            "Name: text_cleaned, dtype: object\n",
            "0                   балаға өте ыңғайлы өте қатты ұнады\n",
            "1    пабк қа қарағанда графика аиуан және кушті мағ...\n",
            "2    өте керемет маған өте ұнады егер бұны жассаңыз...\n",
            "3    қайырлы күн мен билетті қайтарып едім ақшаны қ...\n",
            "4                           qazaq keybaert маған ұнады\n",
            "Name: text_cleaned, dtype: object\n"
          ]
        }
      ]
    },
    {
      "cell_type": "code",
      "source": [
        "# Transform text to numeric format (TF-IDF)\n",
        "vectorizer_sc = TfidfVectorizer(max_features=5000)\n",
        "X_train_sc_tfidf = vectorizer_sc.fit_transform(train_sc_df['text_cleaned'])\n",
        "X_valid_sc_tfidf = vectorizer_sc.transform(valid_sc_df['text_cleaned'])\n",
        "X_test_sc_tfidf = vectorizer_sc.transform(test_sc_df['text_cleaned'])\n",
        "\n",
        "y_train_sc = train_sc_df['label']\n",
        "y_valid_sc = valid_sc_df['label']\n",
        "y_test_sc = test_sc_df['label']"
      ],
      "metadata": {
        "id": "dt9wG2b7btP2"
      },
      "execution_count": null,
      "outputs": []
    },
    {
      "cell_type": "code",
      "source": [
        "from sklearn.model_selection import ParameterGrid, KFold\n",
        "from sklearn.ensemble import RandomForestRegressor\n",
        "from sklearn.metrics import mean_absolute_error, mean_squared_error, r2_score\n",
        "from tqdm import tqdm\n",
        "import numpy as np\n",
        "\n",
        "# Define the parameter grid\n",
        "param_grid = {\n",
        "    'n_estimators': [50, 100],\n",
        "    'max_depth': [10, 20],\n",
        "    'min_samples_split': [2, 5],\n",
        "    'min_samples_leaf': [1, 2]\n",
        "}\n",
        "\n",
        "# Convert param_grid to a list of parameter combinations\n",
        "param_combinations = list(ParameterGrid(param_grid))\n",
        "\n",
        "# Initialize variables to store the best score and parameters\n",
        "best_score = float('inf')\n",
        "best_params = None\n",
        "best_model = None\n",
        "\n",
        "# Progress bar for parameter combinations\n",
        "progress_bar = tqdm(total=len(param_combinations))\n",
        "\n",
        "# Loop through each parameter combination\n",
        "for params in param_combinations:\n",
        "    # Initialize the model with current parameters\n",
        "    model = RandomForestRegressor(random_state=42, **params)\n",
        "\n",
        "    # Perform cross-validation and calculate mean score\n",
        "    scores = []\n",
        "    for train_idx, valid_idx in KFold(n_splits=2, shuffle=True, random_state=42).split(X_train_sc_tfidf):  # Reduced to 2 folds\n",
        "        model.fit(X_train_sc_tfidf[train_idx], y_train_sc[train_idx])\n",
        "        preds = model.predict(X_train_sc_tfidf[valid_idx])\n",
        "        score = mean_squared_error(y_train_sc[valid_idx], preds)\n",
        "        scores.append(score)\n",
        "\n",
        "    mean_score = np.mean(scores)\n",
        "\n",
        "    # Update the best score and parameters if current score is better\n",
        "    if mean_score < best_score:\n",
        "        best_score = mean_score\n",
        "        best_params = params\n",
        "        best_model = model\n",
        "\n",
        "    # Update the progress bar\n",
        "    progress_bar.update(1)\n",
        "\n",
        "progress_bar.close()\n",
        "\n",
        "# Print the best parameters and score\n",
        "print(\"Best parameters found: \", best_params)\n",
        "print(\"Best cross-validation score: \", best_score)"
      ],
      "metadata": {
        "id": "soQD-JIvbwtO",
        "colab": {
          "base_uri": "https://localhost:8080/"
        },
        "outputId": "e5d26b25-607e-4ef5-c5c7-396e01a5731c"
      },
      "execution_count": null,
      "outputs": [
        {
          "output_type": "stream",
          "name": "stderr",
          "text": [
            "100%|██████████| 16/16 [39:40<00:00, 148.81s/it]"
          ]
        },
        {
          "output_type": "stream",
          "name": "stdout",
          "text": [
            "Best parameters found:  {'max_depth': 20, 'min_samples_leaf': 1, 'min_samples_split': 5, 'n_estimators': 50}\n",
            "Best cross-validation score:  1.5568768876408177\n"
          ]
        },
        {
          "output_type": "stream",
          "name": "stderr",
          "text": [
            "\n"
          ]
        }
      ]
    },
    {
      "cell_type": "code",
      "source": [
        "from sklearn.ensemble import GradientBoostingRegressor\n",
        "\n",
        "# Initialize and train the Gradient Boosting model\n",
        "gb_model = GradientBoostingRegressor(n_estimators=100, random_state=42)\n",
        "gb_model.fit(X_train_sc_tfidf, y_train_sc)\n",
        "\n",
        "# Predict on the validation and test sets\n",
        "y_valid_sc_pred_gb = gb_model.predict(X_valid_sc_tfidf)\n",
        "y_test_sc_pred_gb = gb_model.predict(X_test_sc_tfidf)\n",
        "\n",
        "# Evaluate the Gradient Boosting model\n",
        "print(\"Validation Mean Absolute Error (GB): \", mean_absolute_error(y_valid_sc, y_valid_sc_pred_gb))\n",
        "print(\"Validation Mean Squared Error (GB): \", mean_squared_error(y_valid_sc, y_valid_sc_pred_gb))\n",
        "print(\"Validation R2 Score (GB): \", r2_score(y_valid_sc, y_valid_sc_pred_gb))\n",
        "\n",
        "print(\"Test Mean Absolute Error (GB): \", mean_absolute_error(y_test_sc, y_test_sc_pred_gb))\n",
        "print(\"Test Mean Squared Error (GB): \", mean_squared_error(y_test_sc, y_test_sc_pred_gb))\n",
        "print(\"Test R2 Score (GB): \", r2_score(y_test_sc, y_test_sc_pred_gb))"
      ],
      "metadata": {
        "id": "svTIYjgnHsbT",
        "colab": {
          "base_uri": "https://localhost:8080/"
        },
        "outputId": "9e134df0-3c2c-47a6-d58d-109ba68b89bb"
      },
      "execution_count": null,
      "outputs": [
        {
          "output_type": "stream",
          "name": "stdout",
          "text": [
            "Validation Mean Absolute Error (GB):  0.9348019714596006\n",
            "Validation Mean Squared Error (GB):  1.5711637302208388\n",
            "Validation R2 Score (GB):  0.2601555729184125\n",
            "Test Mean Absolute Error (GB):  0.9427540065309398\n",
            "Test Mean Squared Error (GB):  1.603572590581566\n",
            "Test R2 Score (GB):  0.24492288125715667\n"
          ]
        }
      ]
    },
    {
      "cell_type": "code",
      "source": [
        "print(\"Gradient Boosting Model:\")\n",
        "print(\"Validation Mean Absolute Error (GB): \", mean_absolute_error(y_valid_sc, y_valid_sc_pred_gb))\n",
        "print(\"Validation Mean Squared Error (GB): \", mean_squared_error(y_valid_sc, y_valid_sc_pred_gb))\n",
        "print(\"Validation R2 Score (GB): \", r2_score(y_valid_sc, y_valid_sc_pred_gb))\n",
        "\n",
        "print(\"Test Mean Absolute Error (GB): \", mean_absolute_error(y_test_sc, y_test_sc_pred_gb))\n",
        "print(\"Test Mean Squared Error (GB): \", mean_squared_error(y_test_sc, y_test_sc_pred_gb))\n",
        "print(\"Test R2 Score (GB): \", r2_score(y_test_sc, y_test_sc_pred_gb))"
      ],
      "metadata": {
        "id": "NE4J98GIHzPC",
        "colab": {
          "base_uri": "https://localhost:8080/"
        },
        "outputId": "be161c7e-afdb-47f3-8bf4-2a5cde8190cf"
      },
      "execution_count": null,
      "outputs": [
        {
          "output_type": "stream",
          "name": "stdout",
          "text": [
            "Gradient Boosting Model:\n",
            "Validation Mean Absolute Error (GB):  0.9348019714596006\n",
            "Validation Mean Squared Error (GB):  1.5711637302208388\n",
            "Validation R2 Score (GB):  0.2601555729184125\n",
            "Test Mean Absolute Error (GB):  0.9427540065309398\n",
            "Test Mean Squared Error (GB):  1.603572590581566\n",
            "Test R2 Score (GB):  0.24492288125715667\n"
          ]
        }
      ]
    },
    {
      "cell_type": "code",
      "source": [
        "import joblib\n",
        "\n",
        "# Save the Random Forest model\n",
        "joblib.dump(best_model, 'random_forest_sc_model.pkl')\n",
        "\n",
        "# Save the Gradient Boosting model\n",
        "joblib.dump(gb_model, 'gradient_boosting_sc_model.pkl')\n",
        "\n",
        "# To load the model later\n",
        "# best_model_sc = joblib.load('random_forest_sc_model.pkl')\n",
        "# gb_model = joblib.load('gradient_boosting_sc_model.pkl')"
      ],
      "metadata": {
        "id": "InDVNx7qH2xw",
        "colab": {
          "base_uri": "https://localhost:8080/"
        },
        "outputId": "2bef1c1f-0234-4105-d5b5-225f4905abf3"
      },
      "execution_count": null,
      "outputs": [
        {
          "output_type": "execute_result",
          "data": {
            "text/plain": [
              "['gradient_boosting_sc_model.pkl']"
            ]
          },
          "metadata": {},
          "execution_count": 36
        }
      ]
    },
    {
      "cell_type": "code",
      "source": [
        "from sklearn.metrics import mean_absolute_error, mean_squared_error, r2_score\n",
        "\n",
        "# Predict on the validation and test sets using the best Random Forest model\n",
        "y_valid_sc_pred = best_model.predict(X_valid_sc_tfidf)\n",
        "y_test_sc_pred = best_model.predict(X_test_sc_tfidf)\n",
        "\n",
        "# Evaluate the Random Forest model\n",
        "print(\"Random Forest Model:\")\n",
        "print(\"Validation Mean Absolute Error: \", mean_absolute_error(y_valid_sc, y_valid_sc_pred))\n",
        "print(\"Validation Mean Squared Error: \", mean_squared_error(y_valid_sc, y_valid_sc_pred))\n",
        "print(\"Validation R2 Score: \", r2_score(y_valid_sc, y_valid_sc_pred))\n",
        "\n",
        "print(\"Test Mean Absolute Error: \", mean_absolute_error(y_test_sc, y_test_sc_pred))\n",
        "print(\"Test Mean Squared Error: \", mean_squared_error(y_test_sc, y_test_sc_pred))\n",
        "print(\"Test R2 Score: \", r2_score(y_test_sc, y_test_sc_pred))"
      ],
      "metadata": {
        "id": "IXu6OF_ZiPbp",
        "colab": {
          "base_uri": "https://localhost:8080/"
        },
        "outputId": "7bdc7220-6b29-4c45-bf58-22994f6043a1"
      },
      "execution_count": null,
      "outputs": [
        {
          "output_type": "stream",
          "name": "stdout",
          "text": [
            "Random Forest Model:\n",
            "Validation Mean Absolute Error:  0.8726490008311867\n",
            "Validation Mean Squared Error:  1.5526131435069925\n",
            "Validation R2 Score:  0.2688908485204047\n",
            "Test Mean Absolute Error:  0.8824598788919958\n",
            "Test Mean Squared Error:  1.587528794733621\n",
            "Test R2 Score:  0.25247745235279473\n"
          ]
        }
      ]
    },
    {
      "cell_type": "code",
      "source": [
        "# Evaluate the Gradient Boosting model\n",
        "print(\"Gradient Boosting Model:\")\n",
        "print(\"Validation Mean Absolute Error (GB): \", mean_absolute_error(y_valid_sc, y_valid_sc_pred_gb))\n",
        "print(\"Validation Mean Squared Error (GB): \", mean_squared_error(y_valid_sc, y_valid_sc_pred_gb))\n",
        "print(\"Validation R2 Score (GB): \", r2_score(y_valid_sc, y_valid_sc_pred_gb))\n",
        "\n",
        "print(\"Test Mean Absolute Error (GB): \", mean_absolute_error(y_test_sc, y_test_sc_pred_gb))\n",
        "print(\"Test Mean Squared Error (GB): \", mean_squared_error(y_test_sc, y_test_sc_pred_gb))\n",
        "print(\"Test R2 Score (GB): \", r2_score(y_test_sc, y_test_sc_pred_gb))"
      ],
      "metadata": {
        "id": "dqqK5FZDiPfL",
        "colab": {
          "base_uri": "https://localhost:8080/"
        },
        "outputId": "6c77fa8d-cfad-4b00-dd29-7b5a0b06eb46"
      },
      "execution_count": null,
      "outputs": [
        {
          "output_type": "stream",
          "name": "stdout",
          "text": [
            "Gradient Boosting Model:\n",
            "Validation Mean Absolute Error (GB):  0.9348019714596006\n",
            "Validation Mean Squared Error (GB):  1.5711637302208388\n",
            "Validation R2 Score (GB):  0.2601555729184125\n",
            "Test Mean Absolute Error (GB):  0.9427540065309398\n",
            "Test Mean Squared Error (GB):  1.603572590581566\n",
            "Test R2 Score (GB):  0.24492288125715667\n"
          ]
        }
      ]
    },
    {
      "cell_type": "code",
      "source": [
        "import matplotlib.pyplot as plt\n",
        "\n",
        "# Visualization for Mean Absolute Error\n",
        "mae_values = [mean_absolute_error(y_test_sc, y_test_sc_pred), mean_absolute_error(y_test_sc, y_test_sc_pred_gb)]\n",
        "models = ['Random Forest', 'Gradient Boosting']\n",
        "\n",
        "plt.figure(figsize=(10, 6))\n",
        "plt.bar(models, mae_values, color=['blue', 'green'])\n",
        "plt.title('Mean Absolute Error for Different Models')\n",
        "plt.xlabel('Model')\n",
        "plt.ylabel('Mean Absolute Error')\n",
        "plt.show()"
      ],
      "metadata": {
        "id": "ieJcepHEig0v",
        "colab": {
          "base_uri": "https://localhost:8080/",
          "height": 564
        },
        "outputId": "bbec746e-7a0a-44e4-a08d-cc26ee733c76"
      },
      "execution_count": null,
      "outputs": [
        {
          "output_type": "display_data",
          "data": {
            "text/plain": [
              "<Figure size 1000x600 with 1 Axes>"
            ],
            "image/png": "[encoded data removed]"
          },
          "metadata": {}
        }
      ]
    },
    {
      "cell_type": "code",
      "source": [
        "# Visualization for Mean Squared Error\n",
        "mse_values = [mean_squared_error(y_test_sc, y_test_sc_pred), mean_squared_error(y_test_sc, y_test_sc_pred_gb)]\n",
        "models = ['Random Forest', 'Gradient Boosting']\n",
        "\n",
        "plt.figure(figsize=(10, 6))\n",
        "plt.bar(models, mse_values, color=['blue', 'green'])\n",
        "plt.title('Mean Squared Error for Different Models')\n",
        "plt.xlabel('Model')\n",
        "plt.ylabel('Mean Squared Error')\n",
        "plt.show()"
      ],
      "metadata": {
        "id": "UdE9Ecdiig3E",
        "colab": {
          "base_uri": "https://localhost:8080/",
          "height": 564
        },
        "outputId": "a0fd276a-95a1-4654-9055-aa29fdf7d2aa"
      },
      "execution_count": null,
      "outputs": [
        {
          "output_type": "display_data",
          "data": {
            "text/plain": [
              "<Figure size 1000x600 with 1 Axes>"
            ],
            "image/png": "[encoded data removed]"
          },
          "metadata": {}
        }
      ]
    },
    {
      "cell_type": "code",
      "source": [
        "# Visualization for R2 Score\n",
        "r2_values = [r2_score(y_test_sc, y_test_sc_pred), r2_score(y_test_sc, y_test_sc_pred_gb)]\n",
        "models = ['Random Forest', 'Gradient Boosting']\n",
        "\n",
        "plt.figure(figsize=(10, 6))\n",
        "plt.bar(models, r2_values, color=['blue', 'green'])\n",
        "plt.title('R2 Score for Different Models')\n",
        "plt.xlabel('Model')\n",
        "plt.ylabel('R2 Score')\n",
        "plt.show()"
      ],
      "metadata": {
        "colab": {
          "base_uri": "https://localhost:8080/",
          "height": 564
        },
        "id": "Csy67Ac3klS2",
        "outputId": "8b37ab46-87e1-4d8c-d0c4-4a47326a22e6"
      },
      "execution_count": null,
      "outputs": [
        {
          "output_type": "display_data",
          "data": {
            "text/plain": [
              "<Figure size 1000x600 with 1 Axes>"
            ],
            "image/png": "[encoded data removed]"
          },
          "metadata": {}
        }
      ]
    },
    {
      "cell_type": "code",
      "source": [
        "print(\"Final Model Performance for Score Classification:\")\n",
        "print(\"Random Forest Model:\")\n",
        "print(\"Validation Mean Absolute Error: \", mean_absolute_error(y_valid_sc, y_valid_sc_pred))\n",
        "print(\"Validation Mean Squared Error: \", mean_squared_error(y_valid_sc, y_valid_sc_pred))\n",
        "print(\"Validation R2 Score: \", r2_score(y_valid_sc, y_valid_sc_pred))\n",
        "\n",
        "print(\"Test Mean Absolute Error: \", mean_absolute_error(y_test_sc, y_test_sc_pred))\n",
        "print(\"Test Mean Squared Error: \", mean_squared_error(y_test_sc, y_test_sc_pred))\n",
        "print(\"Test R2 Score: \", r2_score(y_test_sc, y_test_sc_pred))\n",
        "\n",
        "print(\"Gradient Boosting Model:\")\n",
        "print(\"Validation Mean Absolute Error (GB): \", mean_absolute_error(y_valid_sc, y_valid_sc_pred_gb))\n",
        "print(\"Validation Mean Squared Error (GB): \", mean_squared_error(y_valid_sc, y_valid_sc_pred_gb))\n",
        "print(\"Validation R2 Score (GB): \", r2_score(y_valid_sc, y_valid_sc_pred_gb))\n",
        "\n",
        "print(\"Test Mean Absolute Error (GB): \", mean_absolute_error(y_test_sc, y_test_sc_pred_gb))\n",
        "print(\"Test Mean Squared Error (GB): \", mean_squared_error(y_test_sc, y_test_sc_pred_gb))\n",
        "print(\"Test R2 Score (GB): \", r2_score(y_test_sc, y_test_sc_pred_gb))"
      ],
      "metadata": {
        "colab": {
          "base_uri": "https://localhost:8080/"
        },
        "id": "uNlym0tDkpfl",
        "outputId": "2d3ee7ee-d839-424d-c5aa-072c619d6435"
      },
      "execution_count": null,
      "outputs": [
        {
          "output_type": "stream",
          "name": "stdout",
          "text": [
            "Final Model Performance for Score Classification:\n",
            "Random Forest Model:\n",
            "Validation Mean Absolute Error:  0.8726490008311867\n",
            "Validation Mean Squared Error:  1.5526131435069925\n",
            "Validation R2 Score:  0.2688908485204047\n",
            "Test Mean Absolute Error:  0.8824598788919958\n",
            "Test Mean Squared Error:  1.587528794733621\n",
            "Test R2 Score:  0.25247745235279473\n",
            "Gradient Boosting Model:\n",
            "Validation Mean Absolute Error (GB):  0.9348019714596006\n",
            "Validation Mean Squared Error (GB):  1.5711637302208388\n",
            "Validation R2 Score (GB):  0.2601555729184125\n",
            "Test Mean Absolute Error (GB):  0.9427540065309398\n",
            "Test Mean Squared Error (GB):  1.603572590581566\n",
            "Test R2 Score (GB):  0.24492288125715667\n"
          ]
        }
      ]
    },
    {
      "cell_type": "code",
      "source": [
        "#full"
      ],
      "metadata": {
        "id": "neEeXkb4kpiy"
      },
      "execution_count": null,
      "outputs": []
    },
    {
      "cell_type": "code",
      "source": [
        "import pandas as pd\n",
        "\n",
        "# Try reading the file with different encodings\n",
        "encodings = ['utf-8', 'latin1', 'cp1252']\n",
        "\n",
        "for encoding in encodings:\n",
        "    try:\n",
        "        full_df = pd.read_csv('full.csv', encoding=encoding)\n",
        "        print(f\"Successfully loaded with encoding: {encoding}\")\n",
        "        print(full_df.head())\n",
        "        break\n",
        "    except UnicodeDecodeError as e:\n",
        "        print(f\"Failed with encoding: {encoding}\")\n",
        "        print(e)"
      ],
      "metadata": {
        "id": "nHgk2SoukpmD",
        "colab": {
          "base_uri": "https://localhost:8080/"
        },
        "outputId": "c5e7e196-54d7-4478-aeb2-0990e7e5340d"
      },
      "execution_count": null,
      "outputs": [
        {
          "output_type": "stream",
          "name": "stdout",
          "text": [
            "Successfully loaded with encoding: utf-8\n",
            "      custom_id                                               text  label  \\\n",
            "0  gis000001gis        Тамақтарыңыз өте дәмді екен. Көп көп рақмет      5   \n",
            "1  gis000002gis  Пасуда кір , официанттардын устінен сасык иіс ...      1   \n",
            "2  gis000003gis  Ыдыстары жуылмаган таза емес , стакан акелип б...      1   \n",
            "3  gis000004gis  Түскі 12де келдік. Е анау жоқ, е мынау жоқ. Не...      1   \n",
            "4  gis000005gis  Масқара! Кеше ауызашарда масқара болдық, 15200...      1   \n",
            "\n",
            "    domain  \n",
            "0  mapping  \n",
            "1  mapping  \n",
            "2  mapping  \n",
            "3  mapping  \n",
            "4  mapping  \n"
          ]
        }
      ]
    },
    {
      "cell_type": "code",
      "source": [
        "import re\n",
        "\n",
        "# Example text cleaning function\n",
        "def clean_text(text):\n",
        "    text = text.lower()  # Convert to lowercase\n",
        "    text = re.sub(r'\\b\\d+\\b', ' ', text)  # Remove numbers\n",
        "    text = re.sub(r'[^\\w\\s]', ' ', text)  # Remove punctuation\n",
        "    text = re.sub(r'\\s+', ' ', text)  # Remove extra spaces\n",
        "    return text.strip()\n",
        "\n",
        "# Apply cleaning function to the data\n",
        "full_df['text_cleaned'] = full_df['text'].apply(clean_text)\n",
        "\n",
        "# Preview cleaned text\n",
        "print(full_df['text_cleaned'].head())"
      ],
      "metadata": {
        "colab": {
          "base_uri": "https://localhost:8080/"
        },
        "id": "YFxbwNHomi_e",
        "outputId": "880122e3-09b2-4224-d726-86b721c9772e"
      },
      "execution_count": null,
      "outputs": [
        {
          "output_type": "stream",
          "name": "stdout",
          "text": [
            "0           тамақтарыңыз өте дәмді екен көп көп рақмет\n",
            "1    пасуда кір официанттардын устінен сасык иіс шы...\n",
            "2    ыдыстары жуылмаган таза емес стакан акелип бер...\n",
            "3    түскі 12де келдік е анау жоқ е мынау жоқ не ба...\n",
            "4    масқара кеше ауызашарда масқара болдық теңгеге...\n",
            "Name: text_cleaned, dtype: object\n"
          ]
        }
      ]
    },
    {
      "cell_type": "code",
      "source": [
        "from sklearn.feature_extraction.text import TfidfVectorizer\n",
        "\n",
        "# Initialize TfidfVectorizer\n",
        "vectorizer_full = TfidfVectorizer(max_features=5000)\n",
        "\n",
        "# Transform text to numeric format\n",
        "X_full_tfidf = vectorizer_full.fit_transform(full_df['text_cleaned'])\n",
        "\n",
        "# Check the shape of the transformed data\n",
        "print(X_full_tfidf.shape)"
      ],
      "metadata": {
        "colab": {
          "base_uri": "https://localhost:8080/"
        },
        "id": "yih9eq_ImjCC",
        "outputId": "eb53f8e8-8841-4b0c-e082-3b0457f5a1d5"
      },
      "execution_count": null,
      "outputs": [
        {
          "output_type": "stream",
          "name": "stdout",
          "text": [
            "(180064, 5000)\n"
          ]
        }
      ]
    },
    {
      "cell_type": "code",
      "source": [
        "from sklearn.model_selection import train_test_split\n",
        "from sklearn.ensemble import RandomForestRegressor\n",
        "from sklearn.metrics import mean_squared_error, mean_absolute_error, r2_score\n",
        "\n",
        "# Split data into training and testing sets\n",
        "X_train, X_test, y_train, y_test = train_test_split(X_full_tfidf, full_df['label'], test_size=0.2, random_state=42)\n",
        "\n",
        "# Initialize and train the Random Forest model\n",
        "model_full = RandomForestRegressor(n_estimators=100, random_state=42)\n",
        "model_full.fit(X_train, y_train)\n",
        "\n",
        "# Predict on the test set\n",
        "y_test_pred = model_full.predict(X_test)\n",
        "\n",
        "# Evaluate the model\n",
        "print(\"Test Mean Absolute Error: \", mean_absolute_error(y_test, y_test_pred))\n",
        "print(\"Test Mean Squared Error: \", mean_squared_error(y_test, y_test_pred))\n",
        "print(\"Test R2 Score: \", r2_score(y_test, y_test_pred))"
      ],
      "metadata": {
        "id": "U0gltZP1mjFE",
        "colab": {
          "base_uri": "https://localhost:8080/"
        },
        "outputId": "d77659e2-5c55-4315-b718-f6a4b47a0ad2"
      },
      "execution_count": null,
      "outputs": [
        {
          "output_type": "stream",
          "name": "stdout",
          "text": [
            "Test Mean Absolute Error:  0.7250173100331498\n",
            "Test Mean Squared Error:  1.4727495743108234\n",
            "Test R2 Score:  0.2997830775131479\n"
          ]
        }
      ]
    },
    {
      "cell_type": "code",
      "source": [
        "import matplotlib.pyplot as plt\n",
        "\n",
        "# Visualization for Mean Absolute Error\n",
        "mae_values = [mean_absolute_error(y_test, y_test_pred)]\n",
        "models = ['Random Forest']\n",
        "\n",
        "plt.figure(figsize=(10, 6))\n",
        "plt.bar(models, mae_values, color=['blue'])\n",
        "plt.title('Mean Absolute Error for Random Forest Model')\n",
        "plt.xlabel('Model')\n",
        "plt.ylabel('Mean Absolute Error')\n",
        "plt.show()"
      ],
      "metadata": {
        "id": "dSq0j4-xmjH0",
        "colab": {
          "base_uri": "https://localhost:8080/",
          "height": 564
        },
        "outputId": "28dee1b2-5bf8-407b-f030-dd56513598b1"
      },
      "execution_count": null,
      "outputs": [
        {
          "output_type": "display_data",
          "data": {
            "text/plain": [
              "<Figure size 1000x600 with 1 Axes>"
            ],
            "image/png": "[encoded data removed]"
          },
          "metadata": {}
        }
      ]
    },
    {
      "cell_type": "code",
      "source": [
        "# Visualization for Mean Squared Error\n",
        "mse_values = [mean_squared_error(y_test, y_test_pred)]\n",
        "models = ['Random Forest']\n",
        "\n",
        "plt.figure(figsize=(10, 6))\n",
        "plt.bar(models, mse_values, color=['blue'])\n",
        "plt.title('Mean Squared Error for Random Forest Model')\n",
        "plt.xlabel('Model')\n",
        "plt.ylabel('Mean Squared Error')\n",
        "plt.show()"
      ],
      "metadata": {
        "id": "XxCwmh90mzcv",
        "colab": {
          "base_uri": "https://localhost:8080/",
          "height": 564
        },
        "outputId": "69851f2a-3002-4b79-d3b9-4b048e034a5c"
      },
      "execution_count": null,
      "outputs": [
        {
          "output_type": "display_data",
          "data": {
            "text/plain": [
              "<Figure size 1000x600 with 1 Axes>"
            ],
            "image/png": "[encoded data removed]"
          },
          "metadata": {}
        }
      ]
    },
    {
      "cell_type": "code",
      "source": [
        "# Visualization for R2 Score\n",
        "r2_values = [r2_score(y_test, y_test_pred)]\n",
        "models = ['Random Forest']\n",
        "\n",
        "plt.figure(figsize=(10, 6))\n",
        "plt.bar(models, r2_values, color=['blue'])\n",
        "plt.title('R2 Score for Random Forest Model')\n",
        "plt.xlabel('Model')\n",
        "plt.ylabel('R2 Score')\n",
        "plt.show()"
      ],
      "metadata": {
        "id": "1RTTtw4ymzot",
        "colab": {
          "base_uri": "https://localhost:8080/",
          "height": 564
        },
        "outputId": "bb056a1f-df1b-428b-cadc-6607d10dc9cb"
      },
      "execution_count": null,
      "outputs": [
        {
          "output_type": "display_data",
          "data": {
            "text/plain": [
              "<Figure size 1000x600 with 1 Axes>"
            ],
            "image/png": "[encoded data removed]"
          },
          "metadata": {}
        }
      ]
    },
    {
      "cell_type": "code",
      "source": [
        "import joblib\n",
        "\n",
        "# Save the Random Forest model\n",
        "joblib.dump(model_full, 'random_forest_full_model.pkl')\n",
        "\n",
        "# To load the model later\n",
        "# model_full = joblib.load('random_forest_full_model.pkl')"
      ],
      "metadata": {
        "id": "J1a4kPY5mzuD"
      },
      "execution_count": null,
      "outputs": []
    }
  ]
}